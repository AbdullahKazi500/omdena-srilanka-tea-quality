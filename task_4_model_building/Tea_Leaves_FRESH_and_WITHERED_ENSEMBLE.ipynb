{
  "nbformat": 4,
  "nbformat_minor": 0,
  "metadata": {
    "colab": {
      "name": "Tea Leaves FRESH and WITHERED - ENSEMBLE.ipynb",
      "provenance": [],
      "collapsed_sections": []
    },
    "kernelspec": {
      "name": "python3",
      "display_name": "Python 3"
    },
    "language_info": {
      "name": "python"
    },
    "accelerator": "GPU"
  },
  "cells": [
    {
      "cell_type": "markdown",
      "metadata": {
        "id": "skuo0XITlfmy"
      },
      "source": [
        "## Importing The necessary Libraries and Downloading the Dataset"
      ]
    },
    {
      "cell_type": "code",
      "metadata": {
        "id": "TrUVFMsEk2f1"
      },
      "source": [
        "import tensorflow as tf\n",
        "import matplotlib.pyplot as plt \n",
        "import os\n",
        "import numpy as np\n",
        "%matplotlib inline\n",
        "plt.style.use(\"ggplot\")"
      ],
      "execution_count": 1,
      "outputs": []
    },
    {
      "cell_type": "code",
      "metadata": {
        "colab": {
          "base_uri": "https://localhost:8080/"
        },
        "id": "eerNyqlkngp0",
        "outputId": "2d30d30c-2511-45e3-e2f7-9abdc92a8ab3"
      },
      "source": [
        "!gdown --id 1UCGzcV5ZTC51ShC8hFrE2esC-MdlvRn- \n",
        "!gdown --id 1bu048J7cfuNJpcIlJO2_KIg_tY3IX7p8"
      ],
      "execution_count": 2,
      "outputs": [
        {
          "output_type": "stream",
          "text": [
            "Downloading...\n",
            "From: https://drive.google.com/uc?id=1UCGzcV5ZTC51ShC8hFrE2esC-MdlvRn-\n",
            "To: /content/Fresh.zip\n",
            "172MB [00:01, 89.5MB/s]\n",
            "Downloading...\n",
            "From: https://drive.google.com/uc?id=1bu048J7cfuNJpcIlJO2_KIg_tY3IX7p8\n",
            "To: /content/Withered.zip\n",
            "230MB [00:02, 107MB/s] \n"
          ],
          "name": "stdout"
        }
      ]
    },
    {
      "cell_type": "code",
      "metadata": {
        "id": "CYHIALhbnvI3"
      },
      "source": [
        "import zipfile\n",
        "local_zip = '/content/Fresh.zip'\n",
        "zip_ref = zipfile.ZipFile(local_zip,'r')\n",
        "zip_ref.extractall('/content')\n",
        "zip_ref.close()\n",
        "\n",
        "local_zip = '/content/Withered.zip'\n",
        "zip_ref = zipfile.ZipFile(local_zip,'r')\n",
        "zip_ref.extractall('/content')\n",
        "zip_ref.close()"
      ],
      "execution_count": 3,
      "outputs": []
    },
    {
      "cell_type": "markdown",
      "metadata": {
        "id": "uyCHajdkoEyB"
      },
      "source": [
        "## MODEL: An enesemble of MobileNetV23, Xception, NASNetMobile and DenseNet121 \n",
        "We use ImageNet pre-trained models to make use of Transfer Learning and get a better idea of vision through these models"
      ]
    },
    {
      "cell_type": "code",
      "metadata": {
        "colab": {
          "base_uri": "https://localhost:8080/"
        },
        "id": "RlBZJxtDoAGV",
        "outputId": "1dc6f089-d534-4d18-8d62-b51ce81e2e1e"
      },
      "source": [
        "model1 = tf.keras.applications.MobileNetV3Large(input_shape=(224,224,3), include_top=False, weights=\"imagenet\", pooling = 'avg') \n",
        "M1 = tf.keras.models.Sequential([\n",
        "                                 model1,\n",
        "                                 tf.keras.layers.Dense(3, activation='softmax')\n",
        "])\n",
        "model2 = tf.keras.applications.Xception(input_shape=(224,224,3), include_top=False, weights=\"imagenet\", pooling = 'avg')\n",
        "M2 = tf.keras.models.Sequential([\n",
        "                                 model2,\n",
        "                                 tf.keras.layers.Dense(3, activation='softmax')\n",
        "])\n",
        "model3 = tf.keras.applications.NASNetMobile(input_shape=(224,224,3), include_top=False, weights=\"imagenet\", pooling = 'max')\n",
        "M3 = tf.keras.models.Sequential([\n",
        "                                 model3,\n",
        "                                 tf.keras.layers.Dense(3, activation='softmax')\n",
        "])\n",
        "model4 = tf.keras.applications.DenseNet121(input_shape=(224,224,3), include_top=False, weights=\"imagenet\", pooling = 'max')\n",
        "M4 = tf.keras.models.Sequential([\n",
        "                                 model4,\n",
        "                                 tf.keras.layers.Dense(3, activation='softmax')\n",
        "])\n"
      ],
      "execution_count": 4,
      "outputs": [
        {
          "output_type": "stream",
          "text": [
            "Downloading data from https://storage.googleapis.com/tensorflow/keras-applications/mobilenet_v3/weights_mobilenet_v3_large_224_1.0_float_no_top.h5\n",
            "17612800/17605208 [==============================] - 0s 0us/step\n",
            "17620992/17605208 [==============================] - 0s 0us/step\n",
            "Downloading data from https://storage.googleapis.com/tensorflow/keras-applications/xception/xception_weights_tf_dim_ordering_tf_kernels_notop.h5\n",
            "83689472/83683744 [==============================] - 0s 0us/step\n",
            "83697664/83683744 [==============================] - 0s 0us/step\n",
            "Downloading data from https://storage.googleapis.com/tensorflow/keras-applications/nasnet/NASNet-mobile-no-top.h5\n",
            "19996672/19993432 [==============================] - 0s 0us/step\n",
            "20004864/19993432 [==============================] - 0s 0us/step\n",
            "Downloading data from https://storage.googleapis.com/tensorflow/keras-applications/densenet/densenet121_weights_tf_dim_ordering_tf_kernels_notop.h5\n",
            "29089792/29084464 [==============================] - 0s 0us/step\n",
            "29097984/29084464 [==============================] - 0s 0us/step\n"
          ],
          "name": "stdout"
        }
      ]
    },
    {
      "cell_type": "code",
      "metadata": {
        "id": "LErinA4jHkjT"
      },
      "source": [
        "x = tf.keras.layers.concatenate([M1.output,M2.output,M3.output, M4.output])\n",
        "#x = tf.keras.layers.Dense(8, activation='leaky_relu')(x)\n",
        "x = tf.keras.layers.Dense(3, activation='softmax')(x)\n",
        "M = tf.keras.Model([M1.input,M2.input,M3.input, M4.input], x)"
      ],
      "execution_count": 5,
      "outputs": []
    },
    {
      "cell_type": "code",
      "metadata": {
        "colab": {
          "base_uri": "https://localhost:8080/"
        },
        "id": "5hZU5jCVibY4",
        "outputId": "89de004a-b38e-410c-c240-d3d5d0120f8e"
      },
      "source": [
        "M.summary()"
      ],
      "execution_count": 6,
      "outputs": [
        {
          "output_type": "stream",
          "text": [
            "Model: \"model\"\n",
            "__________________________________________________________________________________________________\n",
            "Layer (type)                    Output Shape         Param #     Connected to                     \n",
            "==================================================================================================\n",
            "MobilenetV3large_input (InputLa [(None, 224, 224, 3) 0                                            \n",
            "__________________________________________________________________________________________________\n",
            "xception_input (InputLayer)     [(None, 224, 224, 3) 0                                            \n",
            "__________________________________________________________________________________________________\n",
            "NASNet_input (InputLayer)       [(None, 224, 224, 3) 0                                            \n",
            "__________________________________________________________________________________________________\n",
            "densenet121_input (InputLayer)  [(None, 224, 224, 3) 0                                            \n",
            "__________________________________________________________________________________________________\n",
            "MobilenetV3large (Functional)   (None, 1280)         4226432     MobilenetV3large_input[0][0]     \n",
            "__________________________________________________________________________________________________\n",
            "xception (Functional)           (None, 2048)         20861480    xception_input[0][0]             \n",
            "__________________________________________________________________________________________________\n",
            "NASNet (Functional)             (None, 1056)         4269716     NASNet_input[0][0]               \n",
            "__________________________________________________________________________________________________\n",
            "densenet121 (Functional)        (None, 1024)         7037504     densenet121_input[0][0]          \n",
            "__________________________________________________________________________________________________\n",
            "dense (Dense)                   (None, 3)            3843        MobilenetV3large[0][0]           \n",
            "__________________________________________________________________________________________________\n",
            "dense_1 (Dense)                 (None, 3)            6147        xception[0][0]                   \n",
            "__________________________________________________________________________________________________\n",
            "dense_2 (Dense)                 (None, 3)            3171        NASNet[0][0]                     \n",
            "__________________________________________________________________________________________________\n",
            "dense_3 (Dense)                 (None, 3)            3075        densenet121[0][0]                \n",
            "__________________________________________________________________________________________________\n",
            "concatenate_4 (Concatenate)     (None, 12)           0           dense[0][0]                      \n",
            "                                                                 dense_1[0][0]                    \n",
            "                                                                 dense_2[0][0]                    \n",
            "                                                                 dense_3[0][0]                    \n",
            "__________________________________________________________________________________________________\n",
            "dense_4 (Dense)                 (None, 3)            39          concatenate_4[0][0]              \n",
            "==================================================================================================\n",
            "Total params: 36,411,407\n",
            "Trainable params: 36,212,093\n",
            "Non-trainable params: 199,314\n",
            "__________________________________________________________________________________________________\n"
          ],
          "name": "stdout"
        }
      ]
    },
    {
      "cell_type": "code",
      "metadata": {
        "id": "I88N9ELytEVo"
      },
      "source": [
        "# MODEL.summary()"
      ],
      "execution_count": 8,
      "outputs": []
    },
    {
      "cell_type": "markdown",
      "metadata": {
        "id": "M4rTsN_btrPf"
      },
      "source": [
        "## FRESH Data Training and Validation: \n",
        "Using Necessary Data Augmentation and DataGenerator to test the model"
      ]
    },
    {
      "cell_type": "code",
      "metadata": {
        "colab": {
          "base_uri": "https://localhost:8080/"
        },
        "id": "X9Hjs2D0vYyp",
        "outputId": "2f6d70eb-cc4d-4b54-d889-3e5a4089c93d"
      },
      "source": [
        "print(len(os.listdir('/content/Fresh/Below Best')))\n",
        "print(len(os.listdir('/content/Fresh/Best')))\n",
        "print(len(os.listdir('/content/Fresh/Poor')))"
      ],
      "execution_count": 9,
      "outputs": [
        {
          "output_type": "stream",
          "text": [
            "73\n",
            "153\n",
            "43\n"
          ],
          "name": "stdout"
        }
      ]
    },
    {
      "cell_type": "markdown",
      "metadata": {
        "id": "BUXblFWqzeL6"
      },
      "source": [
        "clearly, the data imbalance poses threat to the model learnings. Thus, we can either remove the extra data by random sampling method or add data for a specific class to match the size  \n",
        "We choose the latter and increase data for each class such that model generalizes better. We use total of `7` augmentations which are used later for Withered Leaves also.\n",
        "\n",
        "1.   1 augmentation for class `Below Best` to get 438 images\n",
        "2.   2 augmentation for class `Poor` to get 344 images \n",
        "3.   2 augmentation for class `Best` to get 459 images\n",
        "wee use imgaug to make these augmentations\n",
        "\n"
      ]
    },
    {
      "cell_type": "code",
      "metadata": {
        "colab": {
          "base_uri": "https://localhost:8080/"
        },
        "id": "Y9LTnkc21bAY",
        "outputId": "4cf00b4b-e9d5-44eb-97d5-a9825821cc1a"
      },
      "source": [
        "import imgaug as ia\n",
        "import imgaug.augmenters as iaa\n",
        "ia.seed(2)\n",
        "\n",
        "seq1 = iaa.Sequential([\n",
        "    iaa.Fliplr(1.0), \n",
        "    iaa.Flipud(0.7)\n",
        "])\n",
        "\n",
        "seq2 = iaa.Sequential([\n",
        "    iaa.Affine(rotate=(-60, 60)),\n",
        "    iaa.Flipud(1.0)\n",
        "])\n",
        "\n",
        "seq3 = iaa.PerspectiveTransform(scale=(0.01, 0.15))\n",
        "seq4 = iaa.Affine(scale=(0.5, 1.5))\n",
        "seq5 = iaa.LinearContrast((0.4, 1.6))\n",
        "seq6 = iaa.Sequential([\n",
        "    iaa.Flipud(1.0), \n",
        "    iaa.AllChannelsHistogramEqualization()\n",
        "])\n",
        "seq7 = iaa.LogContrast(gain=(0.6, 1.4))\n",
        "\n",
        "# we use tha above defined augmentations \n",
        "\n",
        "'''augmenting the \"Best\" class:'''\n",
        "\n",
        "from PIL import Image\n",
        "\n",
        "count = 0\n",
        "for i in os.listdir('/content/Fresh/Best'):\n",
        "    img = Image.open(os.path.join(\"/content/Fresh/Best\",i))\n",
        "    img = np.array(img)\n",
        "    \n",
        "    img1 = seq6(image=img)\n",
        "    img1 = Image.fromarray(np.uint8(img1)).convert('RGB')\n",
        "    img1.save(\"/content/Fresh/Best/img_{}.jpg\".format(count))\n",
        "    count += 1\n",
        "\n",
        "    img5 = seq3(image=img)\n",
        "    img5 = Image.fromarray(np.uint8(img5)).convert('RGB')\n",
        "    img5.save(\"/content/Fresh/Best/img_{}.jpg\".format(count))\n",
        "    count += 1\n",
        "\n",
        "\n",
        "'''augmenting the \"Below Best\" class:'''\n",
        "count = 0\n",
        "for i in os.listdir('/content/Fresh/Below Best'):\n",
        "    img = Image.open(os.path.join(\"/content/Fresh/Below Best\",i))\n",
        "    img = np.array(img)\n",
        "    \n",
        "    img1 = seq2(image=img)\n",
        "    img1 = Image.fromarray(np.uint8(img1)).convert('RGB')\n",
        "    img1.save(\"/content/Fresh/Below Best/img_{}.jpg\".format(count))\n",
        "    count += 1\n",
        "\n",
        "    img4 = seq4(image=img)\n",
        "    img4 = Image.fromarray(np.uint8(img4)).convert('RGB')\n",
        "    img4.save(\"/content/Fresh/Below Best/img_{}.jpg\".format(count))\n",
        "    count += 1\n",
        "\n",
        "    img5 = seq5(image=img)\n",
        "    img5 = Image.fromarray(np.uint8(img5)).convert('RGB')\n",
        "    img5.save(\"/content/Fresh/Below Best/img_{}.jpg\".format(count))\n",
        "    count += 1\n",
        "\n",
        "    img6 = seq6(image=img)\n",
        "    img6 = Image.fromarray(np.uint8(img6)).convert('RGB')\n",
        "    img6.save(\"/content/Fresh/Below Best/img_{}.jpg\".format(count))\n",
        "    count += 1\n",
        "\n",
        "    img7 = seq7(image=img)\n",
        "    img7 = Image.fromarray(np.uint8(img7)).convert('RGB')\n",
        "    img7.save(\"/content/Fresh/Below Best/img_{}.jpg\".format(count))\n",
        "    count += 1\n",
        "\n",
        "'''augmenting the \"Poor\" class:'''\n",
        "count = 0\n",
        "for i in os.listdir('/content/Fresh/Poor'):\n",
        "    img = Image.open(os.path.join(\"/content/Fresh/Poor\",i))\n",
        "    img = np.array(img)\n",
        "\n",
        "    img1 = seq2(image=img)\n",
        "    img1 = Image.fromarray(np.uint8(img1)).convert('RGB')\n",
        "    img1.save(\"/content/Fresh/Poor/img_{}.jpg\".format(count))\n",
        "    count += 1\n",
        "\n",
        "    img2 = seq1(image=img)\n",
        "    img2 = Image.fromarray(np.uint8(img2)).convert('RGB')\n",
        "    img2.save(\"/content/Fresh/Poor/img_{}.jpg\".format(count))\n",
        "    count += 1\n",
        "\n",
        "    img3 = seq3(image=img)\n",
        "    img3 = Image.fromarray(np.uint8(img3)).convert('RGB')\n",
        "    img3.save(\"/content/Fresh/Poor/img_{}.jpg\".format(count))\n",
        "    count += 1\n",
        "\n",
        "    img4 = seq4(image=img)\n",
        "    img4 = Image.fromarray(np.uint8(img4)).convert('RGB')\n",
        "    img4.save(\"/content/Fresh/Poor/img_{}.jpg\".format(count))\n",
        "    count += 1\n",
        "\n",
        "    img5 = seq5(image=img)\n",
        "    img5 = Image.fromarray(np.uint8(img5)).convert('RGB')\n",
        "    img5.save(\"/content/Fresh/Poor/img_{}.jpg\".format(count))\n",
        "    count += 1\n",
        "\n",
        "    img6 = seq6(image=img)\n",
        "    img6 = Image.fromarray(np.uint8(img6)).convert('RGB')\n",
        "    img6.save(\"/content/Fresh/Poor/img_{}.jpg\".format(count))\n",
        "    count += 1\n",
        "\n",
        "    img7 = seq7(image=img)\n",
        "    img7 = Image.fromarray(np.uint8(img7)).convert('RGB')\n",
        "    img7.save(\"/content/Fresh/Poor/img_{}.jpg\".format(count))\n",
        "    count += 1\n",
        "\n",
        "print(len(os.listdir('/content/Fresh/Below Best')))\n",
        "print(len(os.listdir('/content/Fresh/Best')))\n",
        "print(len(os.listdir('/content/Fresh/Poor')))"
      ],
      "execution_count": 10,
      "outputs": [
        {
          "output_type": "stream",
          "text": [
            "438\n",
            "459\n",
            "344\n"
          ],
          "name": "stdout"
        }
      ]
    },
    {
      "cell_type": "code",
      "metadata": {
        "colab": {
          "base_uri": "https://localhost:8080/"
        },
        "id": "sEAjDN7utFpS",
        "outputId": "79f65141-26fe-4afd-8194-1c3b55c76303"
      },
      "source": [
        "datagen = tf.keras.preprocessing.image.ImageDataGenerator(\n",
        "    rescale = 1./255,\n",
        "    zoom_range=0.25,\n",
        "    shear_range=0.3,\n",
        "    validation_split=0.2,\n",
        ")\n",
        "\n",
        "train_generator = datagen.flow_from_directory(\n",
        "        '/content/Fresh',\n",
        "        target_size=(224, 224),\n",
        "        batch_size=8,\n",
        "        subset='training',\n",
        "        class_mode='categorical')\n",
        "validation_generator = datagen.flow_from_directory(\n",
        "        '/content/Fresh',\n",
        "        target_size=(224, 224),\n",
        "        batch_size=8,\n",
        "        subset='validation',\n",
        "        class_mode='categorical')"
      ],
      "execution_count": 11,
      "outputs": [
        {
          "output_type": "stream",
          "text": [
            "Found 995 images belonging to 3 classes.\n",
            "Found 246 images belonging to 3 classes.\n"
          ],
          "name": "stdout"
        }
      ]
    },
    {
      "cell_type": "code",
      "metadata": {
        "id": "b51CqrOpMKTV"
      },
      "source": [
        "# out = train_generator.next()\n",
        "# a,b = out\n",
        "# print(a.shape)\n",
        "# print(b)"
      ],
      "execution_count": 19,
      "outputs": []
    },
    {
      "cell_type": "code",
      "metadata": {
        "colab": {
          "base_uri": "https://localhost:8080/"
        },
        "id": "VK26Bw84MnfW",
        "outputId": "59615fe4-ede6-478f-cfa1-29469e055750"
      },
      "source": [
        "x,y = train_generator[0]\n",
        "print(x.shape)\n",
        "print(y.shape)"
      ],
      "execution_count": 12,
      "outputs": [
        {
          "output_type": "stream",
          "text": [
            "(8, 224, 224, 3)\n",
            "(8, 3)\n"
          ],
          "name": "stdout"
        }
      ]
    },
    {
      "cell_type": "markdown",
      "metadata": {
        "id": "Rk6aGuO0LkRj"
      },
      "source": [
        "since the ensemble takes 3 inputs we define our custom datagenerator to get the three inputs for out ensemble model\n",
        "\n",
        "[reference](https://stackoverflow.com/questions/59492866/keras-imagedatagenerator-for-multiple-inputs-and-image-based-target-output)\n"
      ]
    },
    {
      "cell_type": "code",
      "metadata": {
        "id": "75uTwlCTLszF"
      },
      "source": [
        "class Customed_datagen(tf.keras.utils.Sequence):\n",
        "    def __init__(self, input_gen):\n",
        "        self.gen = input_gen\n",
        "\n",
        "    def __len__(self):\n",
        "        return len(self.gen)\n",
        "\n",
        "    def __getitem__(self, i):\n",
        "        x,y = self.gen[i]\n",
        "        return [x, x, x, x], y\n",
        "    \n",
        "    def y_val(self):\n",
        "        return self.gen.classes\n",
        "    \n",
        "    def on_epoch_end(self):\n",
        "        self.gen.on_epoch_end()\n",
        "    \n",
        "trainer = Customed_datagen(train_generator)\n",
        "validator = Customed_datagen(validation_generator)"
      ],
      "execution_count": 13,
      "outputs": []
    },
    {
      "cell_type": "code",
      "metadata": {
        "colab": {
          "base_uri": "https://localhost:8080/"
        },
        "id": "PekbzxuPvk4J",
        "outputId": "d0911f18-76d9-4eb5-fb08-70369cae8d3b"
      },
      "source": [
        "M.compile(loss='categorical_crossentropy', optimizer=tf.keras.optimizers.Adam(learning_rate=1e-4), metrics=['accuracy'])\n",
        "history = M.fit(trainer, validation_data= validator, epochs = 20)"
      ],
      "execution_count": 15,
      "outputs": [
        {
          "output_type": "stream",
          "text": [
            "Epoch 1/20\n",
            "125/125 [==============================] - 128s 585ms/step - loss: 0.8671 - accuracy: 0.5719 - val_loss: 0.8970 - val_accuracy: 0.5041\n",
            "Epoch 2/20\n",
            "125/125 [==============================] - 64s 513ms/step - loss: 0.7059 - accuracy: 0.6673 - val_loss: 0.8158 - val_accuracy: 0.6748\n",
            "Epoch 3/20\n",
            "125/125 [==============================] - 64s 512ms/step - loss: 0.6619 - accuracy: 0.7005 - val_loss: 0.7900 - val_accuracy: 0.6911\n",
            "Epoch 4/20\n",
            "125/125 [==============================] - 64s 510ms/step - loss: 0.6002 - accuracy: 0.7347 - val_loss: 0.7409 - val_accuracy: 0.7073\n",
            "Epoch 5/20\n",
            "125/125 [==============================] - 64s 510ms/step - loss: 0.5577 - accuracy: 0.7910 - val_loss: 0.6587 - val_accuracy: 0.8252\n",
            "Epoch 6/20\n",
            "125/125 [==============================] - 64s 508ms/step - loss: 0.5283 - accuracy: 0.8181 - val_loss: 0.6928 - val_accuracy: 0.7520\n",
            "Epoch 7/20\n",
            "125/125 [==============================] - 64s 510ms/step - loss: 0.5117 - accuracy: 0.8332 - val_loss: 0.6824 - val_accuracy: 0.8618\n",
            "Epoch 8/20\n",
            "125/125 [==============================] - 64s 510ms/step - loss: 0.4841 - accuracy: 0.8754 - val_loss: 0.6749 - val_accuracy: 0.7602\n",
            "Epoch 9/20\n",
            "125/125 [==============================] - 64s 511ms/step - loss: 0.4592 - accuracy: 0.9246 - val_loss: 0.6514 - val_accuracy: 0.7154\n",
            "Epoch 10/20\n",
            "125/125 [==============================] - 64s 509ms/step - loss: 0.4311 - accuracy: 0.9487 - val_loss: 0.5880 - val_accuracy: 0.8211\n",
            "Epoch 11/20\n",
            "125/125 [==============================] - 64s 512ms/step - loss: 0.4177 - accuracy: 0.9518 - val_loss: 0.6164 - val_accuracy: 0.7886\n",
            "Epoch 12/20\n",
            "125/125 [==============================] - 64s 510ms/step - loss: 0.3917 - accuracy: 0.9548 - val_loss: 0.6053 - val_accuracy: 0.8211\n",
            "Epoch 13/20\n",
            "125/125 [==============================] - 64s 513ms/step - loss: 0.3672 - accuracy: 0.9688 - val_loss: 0.5464 - val_accuracy: 0.8374\n",
            "Epoch 14/20\n",
            "125/125 [==============================] - 65s 516ms/step - loss: 0.3579 - accuracy: 0.9628 - val_loss: 0.5644 - val_accuracy: 0.8130\n",
            "Epoch 15/20\n",
            "125/125 [==============================] - 64s 513ms/step - loss: 0.3495 - accuracy: 0.9558 - val_loss: 0.5895 - val_accuracy: 0.7724\n",
            "Epoch 16/20\n",
            "125/125 [==============================] - 64s 510ms/step - loss: 0.3257 - accuracy: 0.9799 - val_loss: 0.5372 - val_accuracy: 0.9309\n",
            "Epoch 17/20\n",
            "125/125 [==============================] - 64s 510ms/step - loss: 0.3068 - accuracy: 0.9779 - val_loss: 0.5104 - val_accuracy: 0.9472\n",
            "Epoch 18/20\n",
            "125/125 [==============================] - 64s 511ms/step - loss: 0.2874 - accuracy: 0.9849 - val_loss: 0.5195 - val_accuracy: 0.8821\n",
            "Epoch 19/20\n",
            "125/125 [==============================] - 64s 509ms/step - loss: 0.2848 - accuracy: 0.9809 - val_loss: 0.4774 - val_accuracy: 0.9106\n",
            "Epoch 20/20\n",
            "125/125 [==============================] - 64s 510ms/step - loss: 0.2665 - accuracy: 0.9889 - val_loss: 0.4455 - val_accuracy: 0.9472\n"
          ],
          "name": "stdout"
        }
      ]
    },
    {
      "cell_type": "code",
      "metadata": {
        "colab": {
          "base_uri": "https://localhost:8080/",
          "height": 581
        },
        "id": "Vcoc6GbMmFXo",
        "outputId": "76151d0b-7716-4cff-ff52-6597642490fd"
      },
      "source": [
        "plt.plot(history.history['accuracy'])\n",
        "plt.plot(history.history['val_accuracy'])\n",
        "plt.title('Accuracy')\n",
        "plt.ylabel('Accuracy')\n",
        "plt.xlabel('Epoch')\n",
        "plt.legend(['Train Acc', 'Val Acc'])\n",
        "plt.show()\n",
        "\n",
        "plt.plot(history.history['loss'])\n",
        "plt.plot(history.history['val_loss'])\n",
        "plt.title('Loss')\n",
        "plt.ylabel('Loss')\n",
        "plt.xlabel('Epoch')\n",
        "plt.legend(['Train Loss', 'Val Loss'])\n",
        "plt.show()"
      ],
      "execution_count": 17,
      "outputs": [
        {
          "output_type": "display_data",
          "data": {
            "image/png": "[encoded data removed]",
            "text/plain": [
              "<Figure size 432x288 with 1 Axes>"
            ]
          },
          "metadata": {
            "needs_background": "light"
          }
        },
        {
          "output_type": "display_data",
          "data": {
            "image/png": "[encoded data removed]",
            "text/plain": [
              "<Figure size 432x288 with 1 Axes>"
            ]
          },
          "metadata": {
            "needs_background": "light"
          }
        }
      ]
    },
    {
      "cell_type": "markdown",
      "metadata": {
        "id": "9umlPKJ6pjOW"
      },
      "source": [
        "### Evaluating Results: "
      ]
    },
    {
      "cell_type": "code",
      "metadata": {
        "colab": {
          "base_uri": "https://localhost:8080/"
        },
        "id": "75M-50IyxHf2",
        "outputId": "bdbf4260-1ebb-4e28-b852-b189b44d1876"
      },
      "source": [
        "validation_generator.class_indices"
      ],
      "execution_count": 18,
      "outputs": [
        {
          "output_type": "execute_result",
          "data": {
            "text/plain": [
              "{'Below Best': 0, 'Best': 1, 'Poor': 2}"
            ]
          },
          "metadata": {},
          "execution_count": 18
        }
      ]
    },
    {
      "cell_type": "code",
      "metadata": {
        "colab": {
          "base_uri": "https://localhost:8080/"
        },
        "id": "_qcxzJf24CAh",
        "outputId": "c9c958bc-7e76-477d-97eb-ac2593323a1d"
      },
      "source": [
        "val_gen = datagen.flow_from_directory(\n",
        "        '/content/Fresh',\n",
        "        target_size=(224, 224),\n",
        "        batch_size=246,\n",
        "        subset='validation',\n",
        "        class_mode='categorical')"
      ],
      "execution_count": 34,
      "outputs": [
        {
          "output_type": "stream",
          "text": [
            "Found 246 images belonging to 3 classes.\n"
          ],
          "name": "stdout"
        }
      ]
    },
    {
      "cell_type": "code",
      "metadata": {
        "id": "IJeSRzYq6qO3"
      },
      "source": [
        "val_g = Customed_datagen(val_gen)\n",
        "x,y = val_g[0]"
      ],
      "execution_count": 35,
      "outputs": []
    },
    {
      "cell_type": "code",
      "metadata": {
        "id": "s3r7Zr7u3vRQ"
      },
      "source": [
        "predicted = M.predict(x)\n",
        "predict = np.argmax(predicted, axis=1)\n",
        "truth = np.argmax(y, axis=1)\n",
        "errors = np.where(predict != truth)"
      ],
      "execution_count": 39,
      "outputs": []
    },
    {
      "cell_type": "code",
      "metadata": {
        "colab": {
          "base_uri": "https://localhost:8080/"
        },
        "id": "yeXPRfD46xNK",
        "outputId": "d6779e2d-a372-4395-ab87-520ea225283b"
      },
      "source": [
        "print('No of errors = {}/{}'.format(len(errors[0]),len(truth)))"
      ],
      "execution_count": 44,
      "outputs": [
        {
          "output_type": "stream",
          "text": [
            "No of errors = 13/246\n"
          ],
          "name": "stdout"
        }
      ]
    },
    {
      "cell_type": "code",
      "metadata": {
        "colab": {
          "base_uri": "https://localhost:8080/"
        },
        "id": "tdDx0UFB_RHc",
        "outputId": "065381d2-aa50-4fb7-e403-5a67704d5b61"
      },
      "source": [
        "y_test = truth\n",
        "y_pred = predict\n",
        "from sklearn.metrics import confusion_matrix\n",
        "confusion = confusion_matrix(y_test, y_pred)\n",
        "print('Confusion Matrix\\n')\n",
        "print(confusion)\n",
        "\n",
        "#importing accuracy_score, precision_score, recall_score, f1_score\n",
        "from sklearn.metrics import accuracy_score, precision_score, recall_score, f1_score\n",
        "print('\\nAccuracy: {:.2f}\\n'.format(accuracy_score(y_test, y_pred)))\n",
        "\n",
        "from sklearn.metrics import classification_report\n",
        "print('\\nClassification Report\\n')\n",
        "print(classification_report(y_test, y_pred, target_names=['Below Best', 'Best', 'Poor']))"
      ],
      "execution_count": 47,
      "outputs": [
        {
          "output_type": "stream",
          "text": [
            "Confusion Matrix\n",
            "\n",
            "[[80  3  4]\n",
            " [ 2 88  1]\n",
            " [ 1  2 65]]\n",
            "\n",
            "Accuracy: 0.95\n",
            "\n",
            "\n",
            "Classification Report\n",
            "\n",
            "              precision    recall  f1-score   support\n",
            "\n",
            "  Below Best       0.96      0.92      0.94        87\n",
            "        Best       0.95      0.97      0.96        91\n",
            "        Poor       0.93      0.96      0.94        68\n",
            "\n",
            "    accuracy                           0.95       246\n",
            "   macro avg       0.95      0.95      0.95       246\n",
            "weighted avg       0.95      0.95      0.95       246\n",
            "\n"
          ],
          "name": "stdout"
        }
      ]
    },
    {
      "cell_type": "code",
      "metadata": {
        "id": "e9q8yxV7ECZJ"
      },
      "source": [
        "#print(plt.style.available)\n",
        "plt.style.use(\"classic\")"
      ],
      "execution_count": 56,
      "outputs": []
    },
    {
      "cell_type": "code",
      "metadata": {
        "colab": {
          "base_uri": "https://localhost:8080/",
          "height": 551
        },
        "id": "12ZPwtNTBcgh",
        "outputId": "643297c3-daa8-4130-e0fa-b79ae14969d4"
      },
      "source": [
        "def plot_confusion_matrix(cm, classes,\n",
        "                          normalize=False,\n",
        "                          title='Confusion matrix',\n",
        "                          cmap=plt.cm.Blues):\n",
        "    \"\"\"\n",
        "    This function prints and plots the confusion matrix.\n",
        "    Normalization can be applied by setting `normalize=True`.\n",
        "    \"\"\"\n",
        "    import itertools\n",
        "    if normalize:\n",
        "        cm = cm.astype('float') / cm.sum(axis=1)[:, np.newaxis]\n",
        "        print(\"Normalized confusion matrix\")\n",
        "    else:\n",
        "        print('Confusion matrix, without normalization')\n",
        "\n",
        "    print(cm)\n",
        "\n",
        "    plt.imshow(cm, interpolation='nearest', cmap=cmap)\n",
        "    plt.title(title)\n",
        "    plt.colorbar()\n",
        "    tick_marks = np.arange(len(classes))\n",
        "    plt.xticks(tick_marks, classes, rotation=45)\n",
        "    plt.yticks(tick_marks, classes)\n",
        "\n",
        "    fmt = '.2f' if normalize else 'd'\n",
        "    thresh = cm.max() / 2.\n",
        "    for i, j in itertools.product(range(cm.shape[0]), range(cm.shape[1])):\n",
        "        plt.text(j, i, format(cm[i, j], fmt),\n",
        "                 horizontalalignment=\"center\",\n",
        "                 color=\"white\" if cm[i, j] > thresh else \"black\")\n",
        "\n",
        "    plt.ylabel('True label')\n",
        "    plt.xlabel('Predicted label')\n",
        "    plt.tight_layout()\n",
        "\n",
        "plot_confusion_matrix(confusion, classes=['Below Best', 'Best', 'Poor'],\n",
        "                      title='Confusion matrix, with normalization',\n",
        "                      normalize = True,)\n",
        "                    #   cmap = plt.cm.jet)"
      ],
      "execution_count": 58,
      "outputs": [
        {
          "output_type": "stream",
          "text": [
            "Normalized confusion matrix\n",
            "[[0.92 0.03 0.05]\n",
            " [0.02 0.97 0.01]\n",
            " [0.01 0.03 0.96]]\n"
          ],
          "name": "stdout"
        },
        {
          "output_type": "display_data",
          "data": {
            "image/png": "[encoded data removed]",
            "text/plain": [
              "<Figure size 640x480 with 2 Axes>"
            ]
          },
          "metadata": {}
        }
      ]
    },
    {
      "cell_type": "markdown",
      "metadata": {
        "id": "ZH2t6t6skC2I"
      },
      "source": [
        "## WITHERED Data Training and Validation: \n",
        "Using Necessary Data Augmentation and DataGenerator to test the model"
      ]
    },
    {
      "cell_type": "code",
      "metadata": {
        "id": "mKDccSkJ6BTn",
        "colab": {
          "base_uri": "https://localhost:8080/"
        },
        "outputId": "d1b5cd67-3a33-41f8-d757-1d5ba39232d4"
      },
      "source": [
        "print(len(os.listdir('/content/Withered/Below Best')))\n",
        "print(len(os.listdir('/content/Withered/Best')))\n",
        "print(len(os.listdir('/content/Withered/Poor')))"
      ],
      "execution_count": 59,
      "outputs": [
        {
          "output_type": "stream",
          "text": [
            "279\n",
            "269\n",
            "273\n"
          ],
          "name": "stdout"
        }
      ]
    },
    {
      "cell_type": "markdown",
      "metadata": {
        "id": "qWmOqBVlmecG"
      },
      "source": [
        "Since there is not much imbalance among the Withered Dataset we can simply apply all the augmentation to all the classes for better generalization of the model."
      ]
    },
    {
      "cell_type": "code",
      "metadata": {
        "colab": {
          "base_uri": "https://localhost:8080/"
        },
        "id": "wfr7IxpSEbBY",
        "outputId": "512d2dce-641f-4861-d6fb-1668e7504528"
      },
      "source": [
        "seq1 = iaa.Sequential([\n",
        "    iaa.Fliplr(1.0), \n",
        "    iaa.Flipud(0.7)\n",
        "])\n",
        "\n",
        "seq2 = iaa.Sequential([\n",
        "    iaa.Affine(rotate=(-60, 60)),\n",
        "    iaa.Flipud(1.0)\n",
        "])\n",
        "\n",
        "seq3 = iaa.PerspectiveTransform(scale=(0.01, 0.15))\n",
        "seq4 = iaa.Affine(scale=(0.5, 1.5))\n",
        "seq5 = iaa.LinearContrast((0.4, 1.6))\n",
        "seq6 = iaa.Sequential([\n",
        "    iaa.Flipud(1.0), \n",
        "    iaa.AllChannelsHistogramEqualization()\n",
        "])\n",
        "seq7 = iaa.LogContrast(gain=(0.6, 1.4))\n",
        "\n",
        "''' Applying Augmentation for Best Class'''\n",
        "count = 0\n",
        "for i in os.listdir('/content/Withered/Best'):\n",
        "    img = Image.open(os.path.join(\"/content/Withered/Best\",i))\n",
        "    img = np.array(img)\n",
        "\n",
        "    img1 = seq2(image=img)\n",
        "    img1 = Image.fromarray(np.uint8(img1)).convert('RGB')\n",
        "    img1.save(\"/content/Withered/Best/img_{}.jpg\".format(count))\n",
        "    count += 1\n",
        "\n",
        "    img2 = seq1(image=img)\n",
        "    img2 = Image.fromarray(np.uint8(img2)).convert('RGB')\n",
        "    img2.save(\"/content/Withered/Best/img_{}.jpg\".format(count))\n",
        "    count += 1\n",
        "\n",
        "    img3 = seq3(image=img)\n",
        "    img3 = Image.fromarray(np.uint8(img3)).convert('RGB')\n",
        "    img3.save(\"/content/Withered/Best/img_{}.jpg\".format(count))\n",
        "    count += 1\n",
        "\n",
        "    img4 = seq4(image=img)\n",
        "    img4 = Image.fromarray(np.uint8(img4)).convert('RGB')\n",
        "    img4.save(\"/content/Withered/Best/img_{}.jpg\".format(count))\n",
        "    count += 1\n",
        "\n",
        "    img5 = seq5(image=img)\n",
        "    img5 = Image.fromarray(np.uint8(img5)).convert('RGB')\n",
        "    img5.save(\"/content/Withered/Best/img_{}.jpg\".format(count))\n",
        "    count += 1\n",
        "\n",
        "    img6 = seq6(image=img)\n",
        "    img6 = Image.fromarray(np.uint8(img6)).convert('RGB')\n",
        "    img6.save(\"/content/Withered/Best/img_{}.jpg\".format(count))\n",
        "    count += 1\n",
        "\n",
        "    img7 = seq7(image=img)\n",
        "    img7 = Image.fromarray(np.uint8(img7)).convert('RGB')\n",
        "    img7.save(\"/content/Withered/Best/img_{}.jpg\".format(count))\n",
        "    count += 1\n",
        "\n",
        "''' Applying Augmentation for Below Best Class'''\n",
        "count = 0\n",
        "for i in os.listdir('/content/Withered/Below Best'):\n",
        "    img = Image.open(os.path.join(\"/content/Withered/Below Best\",i))\n",
        "    img = np.array(img)\n",
        "\n",
        "    img1 = seq2(image=img)\n",
        "    img1 = Image.fromarray(np.uint8(img1)).convert('RGB')\n",
        "    img1.save(\"/content/Withered/Below Best/img_{}.jpg\".format(count))\n",
        "    count += 1\n",
        "\n",
        "    img2 = seq1(image=img)\n",
        "    img2 = Image.fromarray(np.uint8(img2)).convert('RGB')\n",
        "    img2.save(\"/content/Withered/Below Best/img_{}.jpg\".format(count))\n",
        "    count += 1\n",
        "\n",
        "    img3 = seq3(image=img)\n",
        "    img3 = Image.fromarray(np.uint8(img3)).convert('RGB')\n",
        "    img3.save(\"/content/Withered/Below Best/img_{}.jpg\".format(count))\n",
        "    count += 1\n",
        "\n",
        "    img4 = seq4(image=img)\n",
        "    img4 = Image.fromarray(np.uint8(img4)).convert('RGB')\n",
        "    img4.save(\"/content/Withered/Below Best/img_{}.jpg\".format(count))\n",
        "    count += 1\n",
        "\n",
        "    img5 = seq5(image=img)\n",
        "    img5 = Image.fromarray(np.uint8(img5)).convert('RGB')\n",
        "    img5.save(\"/content/Withered/Below Best/img_{}.jpg\".format(count))\n",
        "    count += 1\n",
        "\n",
        "    img6 = seq6(image=img)\n",
        "    img6 = Image.fromarray(np.uint8(img6)).convert('RGB')\n",
        "    img6.save(\"/content/Withered/Below Best/img_{}.jpg\".format(count))\n",
        "    count += 1\n",
        "\n",
        "    img7 = seq7(image=img)\n",
        "    img7 = Image.fromarray(np.uint8(img7)).convert('RGB')\n",
        "    img7.save(\"/content/Withered/Below Best/img_{}.jpg\".format(count))\n",
        "    count += 1\n",
        "\n",
        "\n",
        "''' Applying Augmentation for Poor Class'''\n",
        "count = 0\n",
        "for i in os.listdir('/content/Withered/Poor'):\n",
        "    img = Image.open(os.path.join(\"/content/Withered/Poor\",i))\n",
        "    img = np.array(img)\n",
        "\n",
        "    img1 = seq2(image=img)\n",
        "    img1 = Image.fromarray(np.uint8(img1)).convert('RGB')\n",
        "    img1.save(\"/content/Withered/Poor/img_{}.jpg\".format(count))\n",
        "    count += 1\n",
        "\n",
        "    img2 = seq1(image=img)\n",
        "    img2 = Image.fromarray(np.uint8(img2)).convert('RGB')\n",
        "    img2.save(\"/content/Withered/Poor/img_{}.jpg\".format(count))\n",
        "    count += 1\n",
        "\n",
        "    img3 = seq3(image=img)\n",
        "    img3 = Image.fromarray(np.uint8(img3)).convert('RGB')\n",
        "    img3.save(\"/content/Withered/Poor/img_{}.jpg\".format(count))\n",
        "    count += 1\n",
        "\n",
        "    img4 = seq4(image=img)\n",
        "    img4 = Image.fromarray(np.uint8(img4)).convert('RGB')\n",
        "    img4.save(\"/content/Withered/Poor/img_{}.jpg\".format(count))\n",
        "    count += 1\n",
        "\n",
        "    img5 = seq5(image=img)\n",
        "    img5 = Image.fromarray(np.uint8(img5)).convert('RGB')\n",
        "    img5.save(\"/content/Withered/Poor/img_{}.jpg\".format(count))\n",
        "    count += 1\n",
        "\n",
        "    img6 = seq6(image=img)\n",
        "    img6 = Image.fromarray(np.uint8(img6)).convert('RGB')\n",
        "    img6.save(\"/content/Withered/Poor/img_{}.jpg\".format(count))\n",
        "    count += 1\n",
        "\n",
        "    img7 = seq7(image=img)\n",
        "    img7 = Image.fromarray(np.uint8(img7)).convert('RGB')\n",
        "    img7.save(\"/content/Withered/Poor/img_{}.jpg\".format(count))\n",
        "    count += 1\n",
        "\n",
        "print(len(os.listdir('/content/Withered/Below Best')))\n",
        "print(len(os.listdir('/content/Withered/Best')))\n",
        "print(len(os.listdir('/content/Withered/Poor')))"
      ],
      "execution_count": 60,
      "outputs": [
        {
          "output_type": "stream",
          "text": [
            "2232\n",
            "2152\n",
            "2184\n"
          ],
          "name": "stdout"
        }
      ]
    },
    {
      "cell_type": "code",
      "metadata": {
        "colab": {
          "base_uri": "https://localhost:8080/"
        },
        "id": "GfPPdM6DmabG",
        "outputId": "5597b5ec-f951-4902-af77-dd1315ff1bbe"
      },
      "source": [
        "datagen = tf.keras.preprocessing.image.ImageDataGenerator(\n",
        "    rescale = 1./255,\n",
        "    shear_range=0.4,\n",
        "    validation_split=0.2,\n",
        ")\n",
        "\n",
        "train_generator = datagen.flow_from_directory(\n",
        "        '/content/Withered',\n",
        "        target_size=(224, 224),\n",
        "        batch_size=16,\n",
        "        subset='training',\n",
        "        class_mode='categorical')\n",
        "validation_generator = datagen.flow_from_directory(\n",
        "        '/content/Withered',\n",
        "        target_size=(224, 224),\n",
        "        batch_size=16,\n",
        "        subset='validation',\n",
        "        class_mode='categorical')"
      ],
      "execution_count": 61,
      "outputs": [
        {
          "output_type": "stream",
          "text": [
            "Found 5256 images belonging to 3 classes.\n",
            "Found 1312 images belonging to 3 classes.\n"
          ],
          "name": "stdout"
        }
      ]
    },
    {
      "cell_type": "code",
      "metadata": {
        "id": "uByEKuynnvHk"
      },
      "source": [
        "trainer = Customed_datagen(train_generator)\n",
        "validator = Customed_datagen(validation_generator)"
      ],
      "execution_count": 62,
      "outputs": []
    },
    {
      "cell_type": "code",
      "metadata": {
        "colab": {
          "base_uri": "https://localhost:8080/"
        },
        "id": "nDMIyC-Fn9-M",
        "outputId": "b31ece38-63c2-4d11-adb2-afa355520e8c"
      },
      "source": [
        "# we simply fine-tune on weights from FRESH model\n",
        "M.compile(loss='categorical_crossentropy', optimizer=tf.keras.optimizers.Adam(learning_rate=1e-5), metrics=['accuracy'])\n",
        "history = M.fit(trainer, validation_data= validator, epochs = 26)"
      ],
      "execution_count": 63,
      "outputs": [
        {
          "output_type": "stream",
          "text": [
            "Epoch 1/26\n",
            "329/329 [==============================] - 338s 902ms/step - loss: 0.9200 - accuracy: 0.5573 - val_loss: 0.8628 - val_accuracy: 0.5976\n",
            "Epoch 2/26\n",
            "329/329 [==============================] - 289s 879ms/step - loss: 0.7159 - accuracy: 0.6865 - val_loss: 0.7827 - val_accuracy: 0.6631\n",
            "Epoch 3/26\n",
            "329/329 [==============================] - 289s 878ms/step - loss: 0.6102 - accuracy: 0.7662 - val_loss: 0.7073 - val_accuracy: 0.7058\n",
            "Epoch 4/26\n",
            "329/329 [==============================] - 288s 874ms/step - loss: 0.5414 - accuracy: 0.8183 - val_loss: 0.6459 - val_accuracy: 0.7546\n",
            "Epoch 5/26\n",
            "329/329 [==============================] - 287s 873ms/step - loss: 0.4956 - accuracy: 0.8497 - val_loss: 0.6177 - val_accuracy: 0.7630\n",
            "Epoch 6/26\n",
            "329/329 [==============================] - 289s 878ms/step - loss: 0.4614 - accuracy: 0.8702 - val_loss: 0.5948 - val_accuracy: 0.7721\n",
            "Epoch 7/26\n",
            "329/329 [==============================] - 289s 878ms/step - loss: 0.4232 - accuracy: 0.8975 - val_loss: 0.5672 - val_accuracy: 0.7927\n",
            "Epoch 8/26\n",
            "329/329 [==============================] - 289s 878ms/step - loss: 0.3927 - accuracy: 0.9228 - val_loss: 0.5558 - val_accuracy: 0.8026\n",
            "Epoch 9/26\n",
            "329/329 [==============================] - 288s 876ms/step - loss: 0.3747 - accuracy: 0.9313 - val_loss: 0.5372 - val_accuracy: 0.7980\n",
            "Epoch 10/26\n",
            "329/329 [==============================] - 288s 874ms/step - loss: 0.3493 - accuracy: 0.9433 - val_loss: 0.5108 - val_accuracy: 0.8224\n",
            "Epoch 11/26\n",
            "329/329 [==============================] - 288s 875ms/step - loss: 0.3335 - accuracy: 0.9498 - val_loss: 0.4883 - val_accuracy: 0.8354\n",
            "Epoch 12/26\n",
            "329/329 [==============================] - 288s 875ms/step - loss: 0.3087 - accuracy: 0.9600 - val_loss: 0.4637 - val_accuracy: 0.8445\n",
            "Epoch 13/26\n",
            "329/329 [==============================] - 287s 873ms/step - loss: 0.2983 - accuracy: 0.9618 - val_loss: 0.4456 - val_accuracy: 0.8636\n",
            "Epoch 14/26\n",
            "329/329 [==============================] - 290s 880ms/step - loss: 0.2861 - accuracy: 0.9678 - val_loss: 0.4359 - val_accuracy: 0.8727\n",
            "Epoch 15/26\n",
            "329/329 [==============================] - 290s 881ms/step - loss: 0.2712 - accuracy: 0.9732 - val_loss: 0.4319 - val_accuracy: 0.8681\n",
            "Epoch 16/26\n",
            "329/329 [==============================] - 289s 879ms/step - loss: 0.2607 - accuracy: 0.9768 - val_loss: 0.4169 - val_accuracy: 0.8598\n",
            "Epoch 17/26\n",
            "329/329 [==============================] - 290s 882ms/step - loss: 0.2492 - accuracy: 0.9806 - val_loss: 0.4125 - val_accuracy: 0.8666\n",
            "Epoch 18/26\n",
            "329/329 [==============================] - 288s 874ms/step - loss: 0.2383 - accuracy: 0.9844 - val_loss: 0.3981 - val_accuracy: 0.8674\n",
            "Epoch 19/26\n",
            "329/329 [==============================] - 290s 880ms/step - loss: 0.2332 - accuracy: 0.9838 - val_loss: 0.3942 - val_accuracy: 0.8819\n",
            "Epoch 20/26\n",
            "329/329 [==============================] - 287s 873ms/step - loss: 0.2247 - accuracy: 0.9861 - val_loss: 0.3964 - val_accuracy: 0.8750\n",
            "Epoch 21/26\n",
            "329/329 [==============================] - 287s 871ms/step - loss: 0.2156 - accuracy: 0.9869 - val_loss: 0.3828 - val_accuracy: 0.8803\n",
            "Epoch 22/26\n",
            "329/329 [==============================] - 287s 872ms/step - loss: 0.2101 - accuracy: 0.9886 - val_loss: 0.3805 - val_accuracy: 0.8803\n",
            "Epoch 23/26\n",
            "329/329 [==============================] - 288s 875ms/step - loss: 0.2015 - accuracy: 0.9909 - val_loss: 0.3811 - val_accuracy: 0.8765\n",
            "Epoch 24/26\n",
            "329/329 [==============================] - 288s 876ms/step - loss: 0.1961 - accuracy: 0.9918 - val_loss: 0.3868 - val_accuracy: 0.8788\n",
            "Epoch 25/26\n",
            "329/329 [==============================] - 290s 879ms/step - loss: 0.1906 - accuracy: 0.9916 - val_loss: 0.3724 - val_accuracy: 0.8780\n",
            "Epoch 26/26\n",
            "329/329 [==============================] - 288s 876ms/step - loss: 0.1841 - accuracy: 0.9928 - val_loss: 0.3709 - val_accuracy: 0.8788\n"
          ],
          "name": "stdout"
        }
      ]
    },
    {
      "cell_type": "markdown",
      "metadata": {
        "id": "3-OaiQACn53v"
      },
      "source": [
        "changing the optimizer to see any improvements"
      ]
    },
    {
      "cell_type": "code",
      "metadata": {
        "colab": {
          "base_uri": "https://localhost:8080/"
        },
        "id": "o0E5zfrMkeXm",
        "outputId": "a320c8c3-f8dd-4519-c079-f355d011aeb0"
      },
      "source": [
        "M.compile(loss='categorical_crossentropy', optimizer=tf.keras.optimizers.RMSprop(learning_rate=1e-5), metrics=['accuracy'])\n",
        "history_1 = M.fit(trainer, validation_data= validator, epochs = 4)"
      ],
      "execution_count": 65,
      "outputs": [
        {
          "output_type": "stream",
          "text": [
            "Epoch 1/4\n",
            "329/329 [==============================] - 372s 910ms/step - loss: 0.1781 - accuracy: 0.9930 - val_loss: 0.2319 - val_accuracy: 0.9611\n",
            "Epoch 2/4\n",
            "329/329 [==============================] - 290s 881ms/step - loss: 0.1703 - accuracy: 0.9943 - val_loss: 0.2342 - val_accuracy: 0.9596\n",
            "Epoch 3/4\n",
            "329/329 [==============================] - 291s 883ms/step - loss: 0.1657 - accuracy: 0.9945 - val_loss: 0.2313 - val_accuracy: 0.9611\n",
            "Epoch 4/4\n",
            "329/329 [==============================] - 290s 881ms/step - loss: 0.1615 - accuracy: 0.9949 - val_loss: 0.2322 - val_accuracy: 0.9588\n"
          ],
          "name": "stdout"
        }
      ]
    },
    {
      "cell_type": "code",
      "metadata": {
        "colab": {
          "base_uri": "https://localhost:8080/",
          "height": 671
        },
        "id": "N9awyi2EoG26",
        "outputId": "6585ea72-61d0-4b11-b06c-fe340ba74bf1"
      },
      "source": [
        "plt.style.use(\"ggplot\")\n",
        "fig = plt.gcf()\n",
        "fig.set_size_inches(6, 4)\n",
        "\n",
        "acc = history.history['accuracy'] + history_1.history['accuracy']\n",
        "val_acc = history.history['val_accuracy'] + history_1.history['val_accuracy']\n",
        "loss = history.history['loss'] + history_1.history['loss']\n",
        "val_loss = history.history['val_loss'] + history_1.history['val_loss']\n",
        "\n",
        "plt.plot(acc)\n",
        "plt.plot(val_acc)\n",
        "plt.title('Accuracy')\n",
        "plt.ylabel('Accuracy')\n",
        "plt.xlabel('Epoch')\n",
        "plt.legend(['Train Acc', 'Val Acc'], loc='lower right')\n",
        "plt.show()\n",
        "\n",
        "fig = plt.gcf()\n",
        "fig.set_size_inches(6, 4)\n",
        "plt.plot(loss)\n",
        "plt.plot(val_loss)\n",
        "plt.title('Loss')\n",
        "plt.ylabel('Loss')\n",
        "plt.xlabel('Epoch')\n",
        "plt.legend(['Train Loss', 'Val Loss'])\n",
        "plt.show()"
      ],
      "execution_count": 78,
      "outputs": [
        {
          "output_type": "display_data",
          "data": {
            "image/png": "[encoded data removed]",
            "text/plain": [
              "<Figure size 480x320 with 1 Axes>"
            ]
          },
          "metadata": {}
        },
        {
          "output_type": "display_data",
          "data": {
            "image/png": "[encoded data removed]",
            "text/plain": [
              "<Figure size 480x320 with 1 Axes>"
            ]
          },
          "metadata": {}
        }
      ]
    },
    {
      "cell_type": "markdown",
      "metadata": {
        "id": "jIOGYkWNtOl8"
      },
      "source": [
        "### Evaluating Model Performance"
      ]
    },
    {
      "cell_type": "code",
      "metadata": {
        "colab": {
          "base_uri": "https://localhost:8080/"
        },
        "id": "__XLTMRyq2P4",
        "outputId": "2064ff63-b011-45dd-b6d4-373ea01b561f"
      },
      "source": [
        "val_gen = datagen.flow_from_directory(\n",
        "        '/content/Withered',\n",
        "        target_size=(224, 224),\n",
        "        batch_size=1312,\n",
        "        subset='validation',\n",
        "        class_mode='categorical')"
      ],
      "execution_count": 79,
      "outputs": [
        {
          "output_type": "stream",
          "text": [
            "Found 1312 images belonging to 3 classes.\n"
          ],
          "name": "stdout"
        }
      ]
    },
    {
      "cell_type": "code",
      "metadata": {
        "id": "d4_xSSaLtWqL"
      },
      "source": [
        "val_g = Customed_datagen(val_gen)\n",
        "x,y = val_g[0]"
      ],
      "execution_count": 80,
      "outputs": []
    },
    {
      "cell_type": "code",
      "metadata": {
        "id": "_g4O2TZxtb_9"
      },
      "source": [
        "predicted = M.predict(x)\n",
        "predict = np.argmax(predicted, axis=1)\n",
        "truth = np.argmax(y, axis=1)\n",
        "errors = np.where(predict != truth)"
      ],
      "execution_count": 81,
      "outputs": []
    },
    {
      "cell_type": "code",
      "metadata": {
        "colab": {
          "base_uri": "https://localhost:8080/"
        },
        "id": "rAKNlR0ito-q",
        "outputId": "c5cda8d6-1623-4d12-d785-dcfd9bc8c2d8"
      },
      "source": [
        "print('No of errors = {}/{}'.format(len(errors[0]),len(truth)))"
      ],
      "execution_count": 82,
      "outputs": [
        {
          "output_type": "stream",
          "text": [
            "No of errors = 55/1312\n"
          ],
          "name": "stdout"
        }
      ]
    },
    {
      "cell_type": "code",
      "metadata": {
        "colab": {
          "base_uri": "https://localhost:8080/"
        },
        "id": "L4ySuNketuXm",
        "outputId": "1ef4ff74-25aa-47eb-ce25-0b0e1caabc37"
      },
      "source": [
        "y_test = truth\n",
        "y_pred = predict\n",
        "from sklearn.metrics import confusion_matrix\n",
        "confusion = confusion_matrix(y_test, y_pred)\n",
        "print('Confusion Matrix\\n')\n",
        "print(confusion)\n",
        "\n",
        "#importing accuracy_score, precision_score, recall_score, f1_score\n",
        "from sklearn.metrics import accuracy_score, precision_score, recall_score, f1_score\n",
        "print('\\nAccuracy: {:.2f}\\n'.format(accuracy_score(y_test, y_pred)))\n",
        "\n",
        "from sklearn.metrics import classification_report\n",
        "print('\\nClassification Report\\n')\n",
        "print(classification_report(y_test, y_pred, target_names=['Below Best', 'Best', 'Poor']))"
      ],
      "execution_count": 83,
      "outputs": [
        {
          "output_type": "stream",
          "text": [
            "Confusion Matrix\n",
            "\n",
            "[[412  15  19]\n",
            " [  7 423   0]\n",
            " [ 12   2 422]]\n",
            "\n",
            "Accuracy: 0.96\n",
            "\n",
            "\n",
            "Classification Report\n",
            "\n",
            "              precision    recall  f1-score   support\n",
            "\n",
            "  Below Best       0.96      0.92      0.94       446\n",
            "        Best       0.96      0.98      0.97       430\n",
            "        Poor       0.96      0.97      0.96       436\n",
            "\n",
            "    accuracy                           0.96      1312\n",
            "   macro avg       0.96      0.96      0.96      1312\n",
            "weighted avg       0.96      0.96      0.96      1312\n",
            "\n"
          ],
          "name": "stdout"
        }
      ]
    },
    {
      "cell_type": "code",
      "metadata": {
        "colab": {
          "base_uri": "https://localhost:8080/",
          "height": 551
        },
        "id": "MExgAXvatztq",
        "outputId": "94345038-41d2-4359-9e41-e9c3d1467505"
      },
      "source": [
        "plt.style.use(\"classic\")\n",
        "plot_confusion_matrix(confusion, classes=['Below Best', 'Best', 'Poor'],\n",
        "                      title='Withered: Confusion matrix, with normalization',\n",
        "                      normalize = True,)"
      ],
      "execution_count": 85,
      "outputs": [
        {
          "output_type": "stream",
          "text": [
            "Normalized confusion matrix\n",
            "[[0.92 0.03 0.04]\n",
            " [0.02 0.98 0.  ]\n",
            " [0.03 0.   0.97]]\n"
          ],
          "name": "stdout"
        },
        {
          "output_type": "display_data",
          "data": {
            "image/png": "[encoded data removed]",
            "text/plain": [
              "<Figure size 640x480 with 2 Axes>"
            ]
          },
          "metadata": {}
        }
      ]
    },
    {
      "cell_type": "code",
      "metadata": {
        "id": "Gb2Q0BWmt_qS"
      },
      "source": [
        ""
      ],
      "execution_count": null,
      "outputs": []
    }
  ]
}