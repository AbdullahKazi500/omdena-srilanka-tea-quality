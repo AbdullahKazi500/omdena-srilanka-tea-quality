{
 "cells": [
  {
   "cell_type": "code",
   "execution_count": 1,
   "id": "5229ba53",
   "metadata": {},
   "outputs": [],
   "source": [
    "import pandas as pd\n",
    "import numpy as np\n",
    "import matplotlib.pyplot as plt\n",
    "import tensorflow as tf\n",
    "from tensorflow import keras\n",
    "from tensorflow.keras.preprocessing.image import ImageDataGenerator\n",
    "from tensorflow.keras import layers, models, optimizers\n",
    "from tensorflow.keras import backend as k\n",
    "from tensorflow.keras.applications import VGG16\n"
   ]
  },
  {
   "cell_type": "code",
   "execution_count": 2,
   "id": "471d4008",
   "metadata": {},
   "outputs": [],
   "source": [
    "train_dir='C:\\Lachin\\DataSets\\Tea\\Train\\Withered'\n",
    "test_dir='C:\\Lachin\\DataSets\\Tea\\Test\\Withered'"
   ]
  },
  {
   "cell_type": "code",
   "execution_count": 3,
   "id": "d651e24a",
   "metadata": {},
   "outputs": [],
   "source": [
    "train_datagen=ImageDataGenerator(\n",
    "    rescale=1./255,\n",
    "    rotation_range=40,\n",
    "    width_shift_range=0.2,\n",
    "    height_shift_range=0.2,\n",
    "    shear_range=0.2,\n",
    "    zoom_range=0.22,\n",
    "    horizontal_flip=True)"
   ]
  },
  {
   "cell_type": "code",
   "execution_count": 4,
   "id": "16a579d4",
   "metadata": {},
   "outputs": [],
   "source": [
    "test_datagen=ImageDataGenerator(rescale=1./255)"
   ]
  },
  {
   "cell_type": "code",
   "execution_count": 5,
   "id": "f7d4ffcb",
   "metadata": {},
   "outputs": [
    {
     "name": "stdout",
     "output_type": "stream",
     "text": [
      "Found 600 images belonging to 3 classes.\n"
     ]
    }
   ],
   "source": [
    "train_generator=train_datagen.flow_from_directory(train_dir,target_size=(200,200),batch_size=20, class_mode='categorical')"
   ]
  },
  {
   "cell_type": "code",
   "execution_count": 6,
   "id": "a5ff6d61",
   "metadata": {},
   "outputs": [
    {
     "name": "stdout",
     "output_type": "stream",
     "text": [
      "Found 180 images belonging to 3 classes.\n"
     ]
    }
   ],
   "source": [
    "valid_generator=test_datagen.flow_from_directory(test_dir, target_size=(200,200), batch_size=20, class_mode='categorical')"
   ]
  },
  {
   "cell_type": "markdown",
   "id": "f7885326",
   "metadata": {},
   "source": [
    "## VGG16"
   ]
  },
  {
   "cell_type": "code",
   "execution_count": 7,
   "id": "1d1aea8f",
   "metadata": {},
   "outputs": [],
   "source": [
    "conv_base=VGG16(weights='imagenet', include_top=False, input_shape=(200,200,3))"
   ]
  },
  {
   "cell_type": "code",
   "execution_count": 8,
   "id": "4f8fa0d3",
   "metadata": {},
   "outputs": [
    {
     "name": "stdout",
     "output_type": "stream",
     "text": [
      "Model: \"vgg16\"\n",
      "_________________________________________________________________\n",
      "Layer (type)                 Output Shape              Param #   \n",
      "=================================================================\n",
      "input_1 (InputLayer)         [(None, 200, 200, 3)]     0         \n",
      "_________________________________________________________________\n",
      "block1_conv1 (Conv2D)        (None, 200, 200, 64)      1792      \n",
      "_________________________________________________________________\n",
      "block1_conv2 (Conv2D)        (None, 200, 200, 64)      36928     \n",
      "_________________________________________________________________\n",
      "block1_pool (MaxPooling2D)   (None, 100, 100, 64)      0         \n",
      "_________________________________________________________________\n",
      "block2_conv1 (Conv2D)        (None, 100, 100, 128)     73856     \n",
      "_________________________________________________________________\n",
      "block2_conv2 (Conv2D)        (None, 100, 100, 128)     147584    \n",
      "_________________________________________________________________\n",
      "block2_pool (MaxPooling2D)   (None, 50, 50, 128)       0         \n",
      "_________________________________________________________________\n",
      "block3_conv1 (Conv2D)        (None, 50, 50, 256)       295168    \n",
      "_________________________________________________________________\n",
      "block3_conv2 (Conv2D)        (None, 50, 50, 256)       590080    \n",
      "_________________________________________________________________\n",
      "block3_conv3 (Conv2D)        (None, 50, 50, 256)       590080    \n",
      "_________________________________________________________________\n",
      "block3_pool (MaxPooling2D)   (None, 25, 25, 256)       0         \n",
      "_________________________________________________________________\n",
      "block4_conv1 (Conv2D)        (None, 25, 25, 512)       1180160   \n",
      "_________________________________________________________________\n",
      "block4_conv2 (Conv2D)        (None, 25, 25, 512)       2359808   \n",
      "_________________________________________________________________\n",
      "block4_conv3 (Conv2D)        (None, 25, 25, 512)       2359808   \n",
      "_________________________________________________________________\n",
      "block4_pool (MaxPooling2D)   (None, 12, 12, 512)       0         \n",
      "_________________________________________________________________\n",
      "block5_conv1 (Conv2D)        (None, 12, 12, 512)       2359808   \n",
      "_________________________________________________________________\n",
      "block5_conv2 (Conv2D)        (None, 12, 12, 512)       2359808   \n",
      "_________________________________________________________________\n",
      "block5_conv3 (Conv2D)        (None, 12, 12, 512)       2359808   \n",
      "_________________________________________________________________\n",
      "block5_pool (MaxPooling2D)   (None, 6, 6, 512)         0         \n",
      "=================================================================\n",
      "Total params: 14,714,688\n",
      "Trainable params: 14,714,688\n",
      "Non-trainable params: 0\n",
      "_________________________________________________________________\n"
     ]
    }
   ],
   "source": [
    "conv_base.summary()"
   ]
  },
  {
   "cell_type": "code",
   "execution_count": 9,
   "id": "d8185b3a",
   "metadata": {},
   "outputs": [],
   "source": [
    "model=models.Sequential()\n",
    "model.add(conv_base)\n",
    "model.add(layers.Flatten())\n",
    "model.add(layers.Dropout(0.5))\n",
    "model.add(layers.Dense(250, activation='relu'))\n",
    "model.add(layers.Dense(3, activation='softmax'))"
   ]
  },
  {
   "cell_type": "code",
   "execution_count": 35,
   "id": "03911b11",
   "metadata": {},
   "outputs": [],
   "source": [
    "#model=models.Sequential()\n",
    "#model.add(layers.Conv2D(32,(3,3),activation='relu',input_shape=(200,200,3)))\n",
    "#model.add(layers.MaxPooling2D((2,2)))\n",
    "#model.add(layers.Conv2D(64,(3,3), activation='relu'))\n",
    "#model.add(layers.MaxPooling2D((2,2)))\n",
    "#model.add(layers.Conv2D(128,(3,3), activation='relu'))\n",
    "#model.add(layers.MaxPooling2D((2,2)))\n",
    "#model.add(layers.Conv2D(128,(3,3), activation='relu'))\n",
    "#model.add(layers.MaxPooling2D((2,2)))\n",
    "#model.add(layers.Flatten())\n",
    "#model.add(layers.Dense(512, activation='relu'))\n",
    "#model.add(layers.Dense(3,activation='softmax'))"
   ]
  },
  {
   "cell_type": "code",
   "execution_count": 10,
   "id": "f7bcfe16",
   "metadata": {},
   "outputs": [
    {
     "name": "stdout",
     "output_type": "stream",
     "text": [
      "Model: \"sequential\"\n",
      "_________________________________________________________________\n",
      "Layer (type)                 Output Shape              Param #   \n",
      "=================================================================\n",
      "vgg16 (Functional)           (None, 6, 6, 512)         14714688  \n",
      "_________________________________________________________________\n",
      "flatten (Flatten)            (None, 18432)             0         \n",
      "_________________________________________________________________\n",
      "dropout (Dropout)            (None, 18432)             0         \n",
      "_________________________________________________________________\n",
      "dense (Dense)                (None, 250)               4608250   \n",
      "_________________________________________________________________\n",
      "dense_1 (Dense)              (None, 3)                 753       \n",
      "=================================================================\n",
      "Total params: 19,323,691\n",
      "Trainable params: 19,323,691\n",
      "Non-trainable params: 0\n",
      "_________________________________________________________________\n"
     ]
    }
   ],
   "source": [
    "model.summary()"
   ]
  },
  {
   "cell_type": "code",
   "execution_count": 11,
   "id": "15ed2be8",
   "metadata": {},
   "outputs": [
    {
     "name": "stderr",
     "output_type": "stream",
     "text": [
      "C:\\Users\\acer\\anaconda3\\lib\\site-packages\\tensorflow\\python\\keras\\optimizer_v2\\optimizer_v2.py:374: UserWarning: The `lr` argument is deprecated, use `learning_rate` instead.\n",
      "  warnings.warn(\n"
     ]
    }
   ],
   "source": [
    "model.compile(loss='categorical_crossentropy', optimizer=optimizers.RMSprop(lr=2e-5), metrics='accuracy')"
   ]
  },
  {
   "cell_type": "code",
   "execution_count": 12,
   "id": "30a2060f",
   "metadata": {},
   "outputs": [],
   "source": [
    "check_cb=keras.callbacks.ModelCheckpoint(\"Best_Model_VGG16.h5\", save_best_only=True)\n",
    "early_stopcb=keras.callbacks.EarlyStopping(patience=10, restore_best_weights=True)"
   ]
  },
  {
   "cell_type": "markdown",
   "id": "e15162db",
   "metadata": {},
   "source": [
    "## Model with customized layout"
   ]
  },
  {
   "cell_type": "code",
   "execution_count": 39,
   "id": "0608c082",
   "metadata": {},
   "outputs": [
    {
     "name": "stdout",
     "output_type": "stream",
     "text": [
      "Epoch 1/70\n",
      "30/30 [==============================] - 37s 1s/step - loss: 1.1007 - accuracy: 0.3550 - val_loss: 1.0958 - val_accuracy: 0.3667\n",
      "Epoch 2/70\n",
      "30/30 [==============================] - 38s 1s/step - loss: 1.0964 - accuracy: 0.3650 - val_loss: 1.0883 - val_accuracy: 0.3889\n",
      "Epoch 3/70\n",
      "30/30 [==============================] - 38s 1s/step - loss: 1.0847 - accuracy: 0.4083 - val_loss: 1.0808 - val_accuracy: 0.3833\n",
      "Epoch 4/70\n",
      "30/30 [==============================] - 38s 1s/step - loss: 1.0728 - accuracy: 0.4350 - val_loss: 1.0660 - val_accuracy: 0.3833\n",
      "Epoch 5/70\n",
      "30/30 [==============================] - 39s 1s/step - loss: 1.0557 - accuracy: 0.4533 - val_loss: 1.0590 - val_accuracy: 0.4056\n",
      "Epoch 6/70\n",
      "30/30 [==============================] - 39s 1s/step - loss: 1.0386 - accuracy: 0.4717 - val_loss: 1.0126 - val_accuracy: 0.5278\n",
      "Epoch 7/70\n",
      "30/30 [==============================] - 39s 1s/step - loss: 1.0158 - accuracy: 0.4783 - val_loss: 0.9886 - val_accuracy: 0.4778\n",
      "Epoch 8/70\n",
      "30/30 [==============================] - 39s 1s/step - loss: 0.9897 - accuracy: 0.5483 - val_loss: 0.9756 - val_accuracy: 0.5667\n",
      "Epoch 9/70\n",
      "30/30 [==============================] - 39s 1s/step - loss: 0.9613 - accuracy: 0.5200 - val_loss: 0.9985 - val_accuracy: 0.4667\n",
      "Epoch 10/70\n",
      "30/30 [==============================] - 39s 1s/step - loss: 0.9465 - accuracy: 0.5383 - val_loss: 0.9256 - val_accuracy: 0.6167\n",
      "Epoch 11/70\n",
      "30/30 [==============================] - 39s 1s/step - loss: 0.9264 - accuracy: 0.5600 - val_loss: 0.9161 - val_accuracy: 0.5167\n",
      "Epoch 12/70\n",
      "30/30 [==============================] - 39s 1s/step - loss: 0.9084 - accuracy: 0.5700 - val_loss: 0.9034 - val_accuracy: 0.5389\n",
      "Epoch 13/70\n",
      "30/30 [==============================] - 39s 1s/step - loss: 0.8918 - accuracy: 0.5883 - val_loss: 0.9057 - val_accuracy: 0.5611\n",
      "Epoch 14/70\n",
      "30/30 [==============================] - 39s 1s/step - loss: 0.8719 - accuracy: 0.5950 - val_loss: 0.8898 - val_accuracy: 0.5444\n",
      "Epoch 15/70\n",
      "30/30 [==============================] - 39s 1s/step - loss: 0.8698 - accuracy: 0.5800 - val_loss: 0.8946 - val_accuracy: 0.5778\n",
      "Epoch 16/70\n",
      "30/30 [==============================] - 39s 1s/step - loss: 0.8447 - accuracy: 0.6000 - val_loss: 0.9082 - val_accuracy: 0.5111\n",
      "Epoch 17/70\n",
      "30/30 [==============================] - 39s 1s/step - loss: 0.8483 - accuracy: 0.5867 - val_loss: 0.8860 - val_accuracy: 0.5889\n",
      "Epoch 18/70\n",
      "30/30 [==============================] - 39s 1s/step - loss: 0.8353 - accuracy: 0.6017 - val_loss: 0.9036 - val_accuracy: 0.5444\n",
      "Epoch 19/70\n",
      "30/30 [==============================] - 40s 1s/step - loss: 0.8431 - accuracy: 0.6100 - val_loss: 0.8901 - val_accuracy: 0.5833\n",
      "Epoch 20/70\n",
      "30/30 [==============================] - 42s 1s/step - loss: 0.8200 - accuracy: 0.6167 - val_loss: 0.9147 - val_accuracy: 0.5389\n",
      "Epoch 21/70\n",
      "30/30 [==============================] - 40s 1s/step - loss: 0.8093 - accuracy: 0.6200 - val_loss: 0.8986 - val_accuracy: 0.5611\n",
      "Epoch 22/70\n",
      "30/30 [==============================] - 39s 1s/step - loss: 0.8068 - accuracy: 0.5867 - val_loss: 0.8951 - val_accuracy: 0.6278\n",
      "Epoch 23/70\n",
      "30/30 [==============================] - 39s 1s/step - loss: 0.7947 - accuracy: 0.6233 - val_loss: 0.9031 - val_accuracy: 0.5444\n",
      "Epoch 24/70\n",
      "30/30 [==============================] - 39s 1s/step - loss: 0.7958 - accuracy: 0.6250 - val_loss: 0.9626 - val_accuracy: 0.4333\n",
      "Epoch 25/70\n",
      "30/30 [==============================] - 40s 1s/step - loss: 0.7830 - accuracy: 0.6300 - val_loss: 1.0527 - val_accuracy: 0.3500\n",
      "Epoch 26/70\n",
      "30/30 [==============================] - 41s 1s/step - loss: 0.8027 - accuracy: 0.6133 - val_loss: 0.9198 - val_accuracy: 0.5333\n",
      "Epoch 27/70\n",
      "30/30 [==============================] - 40s 1s/step - loss: 0.7780 - accuracy: 0.6233 - val_loss: 0.9205 - val_accuracy: 0.5278\n"
     ]
    }
   ],
   "source": [
    "#model_tea=model.fit_generator(train_generator, steps_per_epoch=30,epochs=70, validation_data=valid_generator, validation_steps=9, callbacks=[check_cb,early_stopcb])"
   ]
  },
  {
   "cell_type": "markdown",
   "id": "9db324ec",
   "metadata": {},
   "source": [
    "## Model with VGG16 2 dense layers"
   ]
  },
  {
   "cell_type": "code",
   "execution_count": 50,
   "id": "ae1df6f1",
   "metadata": {},
   "outputs": [
    {
     "name": "stdout",
     "output_type": "stream",
     "text": [
      "Epoch 1/70\n",
      "30/30 [==============================] - 333s 11s/step - loss: 1.0215 - accuracy: 0.4817 - val_loss: 1.0187 - val_accuracy: 0.5000\n",
      "Epoch 2/70\n",
      "30/30 [==============================] - 326s 11s/step - loss: 0.9086 - accuracy: 0.5800 - val_loss: 1.0183 - val_accuracy: 0.4722\n",
      "Epoch 3/70\n",
      "30/30 [==============================] - 334s 11s/step - loss: 0.8261 - accuracy: 0.6200 - val_loss: 1.1609 - val_accuracy: 0.5222\n",
      "Epoch 4/70\n",
      "30/30 [==============================] - 327s 11s/step - loss: 0.7684 - accuracy: 0.6783 - val_loss: 1.2262 - val_accuracy: 0.4444\n",
      "Epoch 5/70\n",
      "30/30 [==============================] - 327s 11s/step - loss: 0.7097 - accuracy: 0.6983 - val_loss: 1.1274 - val_accuracy: 0.4944\n",
      "Epoch 6/70\n",
      "30/30 [==============================] - 329s 11s/step - loss: 0.6870 - accuracy: 0.7017 - val_loss: 1.0824 - val_accuracy: 0.5333\n",
      "Epoch 7/70\n",
      "30/30 [==============================] - 337s 11s/step - loss: 0.6974 - accuracy: 0.6933 - val_loss: 1.1778 - val_accuracy: 0.5500\n",
      "Epoch 8/70\n",
      "30/30 [==============================] - 339s 11s/step - loss: 0.6477 - accuracy: 0.7317 - val_loss: 1.0856 - val_accuracy: 0.5389\n",
      "Epoch 9/70\n",
      "30/30 [==============================] - 332s 11s/step - loss: 0.6236 - accuracy: 0.7317 - val_loss: 1.1516 - val_accuracy: 0.5556\n",
      "Epoch 10/70\n",
      "30/30 [==============================] - 342s 11s/step - loss: 0.5714 - accuracy: 0.7483 - val_loss: 1.1096 - val_accuracy: 0.5722\n",
      "Epoch 11/70\n",
      "30/30 [==============================] - 336s 11s/step - loss: 0.5861 - accuracy: 0.7517 - val_loss: 1.4426 - val_accuracy: 0.4722\n",
      "Epoch 12/70\n",
      "30/30 [==============================] - 327s 11s/step - loss: 0.5620 - accuracy: 0.7400 - val_loss: 1.1095 - val_accuracy: 0.5111\n"
     ]
    }
   ],
   "source": [
    "#model_tea=model.fit_generator(train_generator, steps_per_epoch=30,epochs=70, validation_data=valid_generator, validation_steps=9, callbacks=[check_cb,early_stopcb])"
   ]
  },
  {
   "cell_type": "markdown",
   "id": "ab72b170",
   "metadata": {},
   "source": [
    "## VGG 16 without Dense Layers"
   ]
  },
  {
   "cell_type": "code",
   "execution_count": 55,
   "id": "4ff3ab2d",
   "metadata": {},
   "outputs": [
    {
     "name": "stdout",
     "output_type": "stream",
     "text": [
      "Epoch 1/70\n",
      "30/30 [==============================] - 329s 11s/step - loss: 1.1301 - accuracy: 0.4117 - val_loss: 1.0563 - val_accuracy: 0.4167\n",
      "Epoch 2/70\n",
      "30/30 [==============================] - 337s 11s/step - loss: 0.9258 - accuracy: 0.5583 - val_loss: 1.0456 - val_accuracy: 0.4889\n",
      "Epoch 3/70\n",
      "30/30 [==============================] - 324s 11s/step - loss: 0.8816 - accuracy: 0.5950 - val_loss: 0.9700 - val_accuracy: 0.4889\n",
      "Epoch 4/70\n",
      "30/30 [==============================] - 323s 11s/step - loss: 0.8170 - accuracy: 0.6617 - val_loss: 1.0679 - val_accuracy: 0.4833\n",
      "Epoch 5/70\n",
      "30/30 [==============================] - 342s 11s/step - loss: 0.7299 - accuracy: 0.6650 - val_loss: 1.0877 - val_accuracy: 0.5444\n",
      "Epoch 6/70\n",
      "30/30 [==============================] - 325s 11s/step - loss: 0.7245 - accuracy: 0.6783 - val_loss: 1.0716 - val_accuracy: 0.4778\n",
      "Epoch 7/70\n",
      "30/30 [==============================] - 325s 11s/step - loss: 0.7156 - accuracy: 0.6850 - val_loss: 1.0229 - val_accuracy: 0.5222\n",
      "Epoch 8/70\n",
      "30/30 [==============================] - 323s 11s/step - loss: 0.6819 - accuracy: 0.6967 - val_loss: 1.1745 - val_accuracy: 0.5111\n",
      "Epoch 9/70\n",
      "30/30 [==============================] - 322s 11s/step - loss: 0.6284 - accuracy: 0.7450 - val_loss: 1.1313 - val_accuracy: 0.5222\n",
      "Epoch 10/70\n",
      "30/30 [==============================] - 322s 11s/step - loss: 0.6246 - accuracy: 0.7350 - val_loss: 1.1849 - val_accuracy: 0.5278\n",
      "Epoch 11/70\n",
      "30/30 [==============================] - 322s 11s/step - loss: 0.6125 - accuracy: 0.7367 - val_loss: 1.0495 - val_accuracy: 0.5722\n",
      "Epoch 12/70\n",
      "30/30 [==============================] - 323s 11s/step - loss: 0.5665 - accuracy: 0.7733 - val_loss: 1.3339 - val_accuracy: 0.5833\n",
      "Epoch 13/70\n",
      "30/30 [==============================] - 322s 11s/step - loss: 0.5574 - accuracy: 0.7617 - val_loss: 1.3101 - val_accuracy: 0.5833\n"
     ]
    }
   ],
   "source": [
    "model_tea=model.fit_generator(train_generator, steps_per_epoch=30,epochs=70, validation_data=valid_generator, validation_steps=9, callbacks=[check_cb,early_stopcb])"
   ]
  },
  {
   "cell_type": "markdown",
   "id": "2d5fad92",
   "metadata": {},
   "source": [
    "## Without callbacks"
   ]
  },
  {
   "cell_type": "code",
   "execution_count": 14,
   "id": "f11355c4",
   "metadata": {},
   "outputs": [
    {
     "name": "stdout",
     "output_type": "stream",
     "text": [
      "Epoch 1/30\n",
      "30/30 [==============================] - 329s 11s/step - loss: 1.1764 - accuracy: 0.3867 - val_loss: 1.0855 - val_accuracy: 0.3444\n",
      "Epoch 2/30\n",
      "30/30 [==============================] - 328s 11s/step - loss: 1.0402 - accuracy: 0.4433 - val_loss: 1.0323 - val_accuracy: 0.4444\n",
      "Epoch 3/30\n",
      "30/30 [==============================] - 329s 11s/step - loss: 0.9127 - accuracy: 0.5750 - val_loss: 1.1057 - val_accuracy: 0.4167\n",
      "Epoch 4/30\n",
      "30/30 [==============================] - 325s 11s/step - loss: 0.9089 - accuracy: 0.5950 - val_loss: 1.1809 - val_accuracy: 0.4667\n",
      "Epoch 5/30\n",
      "30/30 [==============================] - 328s 11s/step - loss: 0.8073 - accuracy: 0.6433 - val_loss: 1.1928 - val_accuracy: 0.5444\n",
      "Epoch 6/30\n",
      "30/30 [==============================] - 328s 11s/step - loss: 0.7782 - accuracy: 0.6550 - val_loss: 1.1546 - val_accuracy: 0.4778\n",
      "Epoch 7/30\n",
      "30/30 [==============================] - 328s 11s/step - loss: 0.7474 - accuracy: 0.6550 - val_loss: 1.1472 - val_accuracy: 0.5500\n",
      "Epoch 8/30\n",
      "30/30 [==============================] - 327s 11s/step - loss: 0.7221 - accuracy: 0.6667 - val_loss: 1.0529 - val_accuracy: 0.5444\n",
      "Epoch 9/30\n",
      "30/30 [==============================] - 326s 11s/step - loss: 0.6927 - accuracy: 0.6933 - val_loss: 1.0607 - val_accuracy: 0.5500\n",
      "Epoch 10/30\n",
      "30/30 [==============================] - 330s 11s/step - loss: 0.6953 - accuracy: 0.6750 - val_loss: 1.1104 - val_accuracy: 0.5500\n",
      "Epoch 11/30\n",
      "30/30 [==============================] - 325s 11s/step - loss: 0.6268 - accuracy: 0.7333 - val_loss: 1.2690 - val_accuracy: 0.5333\n",
      "Epoch 12/30\n",
      "30/30 [==============================] - 324s 11s/step - loss: 0.5603 - accuracy: 0.7567 - val_loss: 1.5824 - val_accuracy: 0.5333\n",
      "Epoch 13/30\n",
      "30/30 [==============================] - 328s 11s/step - loss: 0.6259 - accuracy: 0.7450 - val_loss: 1.3811 - val_accuracy: 0.5444\n",
      "Epoch 14/30\n",
      "30/30 [==============================] - 326s 11s/step - loss: 0.5789 - accuracy: 0.7483 - val_loss: 1.5300 - val_accuracy: 0.5000\n",
      "Epoch 15/30\n",
      "30/30 [==============================] - 325s 11s/step - loss: 0.5740 - accuracy: 0.7600 - val_loss: 1.7649 - val_accuracy: 0.4833\n",
      "Epoch 16/30\n",
      "30/30 [==============================] - 331s 11s/step - loss: 0.5417 - accuracy: 0.7783 - val_loss: 1.2853 - val_accuracy: 0.5389\n",
      "Epoch 17/30\n",
      "30/30 [==============================] - 325s 11s/step - loss: 0.4857 - accuracy: 0.7900 - val_loss: 1.6062 - val_accuracy: 0.5111\n",
      "Epoch 18/30\n",
      "30/30 [==============================] - 325s 11s/step - loss: 0.4650 - accuracy: 0.8017 - val_loss: 1.5051 - val_accuracy: 0.5556\n",
      "Epoch 19/30\n",
      "30/30 [==============================] - 329s 11s/step - loss: 0.5005 - accuracy: 0.7950 - val_loss: 1.5487 - val_accuracy: 0.5222\n",
      "Epoch 20/30\n",
      "30/30 [==============================] - 325s 11s/step - loss: 0.4329 - accuracy: 0.8183 - val_loss: 1.3319 - val_accuracy: 0.5556\n",
      "Epoch 21/30\n",
      "30/30 [==============================] - 327s 11s/step - loss: 0.3653 - accuracy: 0.8517 - val_loss: 1.6328 - val_accuracy: 0.6056\n",
      "Epoch 22/30\n",
      "30/30 [==============================] - 325s 11s/step - loss: 0.4179 - accuracy: 0.8383 - val_loss: 1.7612 - val_accuracy: 0.5722\n",
      "Epoch 23/30\n",
      "30/30 [==============================] - 327s 11s/step - loss: 0.3766 - accuracy: 0.8450 - val_loss: 1.5308 - val_accuracy: 0.5278\n",
      "Epoch 24/30\n",
      "30/30 [==============================] - 325s 11s/step - loss: 0.3730 - accuracy: 0.8300 - val_loss: 2.1312 - val_accuracy: 0.4833\n",
      "Epoch 25/30\n",
      "30/30 [==============================] - 324s 11s/step - loss: 0.3819 - accuracy: 0.8467 - val_loss: 1.5634 - val_accuracy: 0.5778\n",
      "Epoch 26/30\n",
      "30/30 [==============================] - 323s 11s/step - loss: 0.3350 - accuracy: 0.8517 - val_loss: 1.5650 - val_accuracy: 0.5667\n",
      "Epoch 27/30\n",
      "30/30 [==============================] - 324s 11s/step - loss: 0.3317 - accuracy: 0.8667 - val_loss: 3.8006 - val_accuracy: 0.4000\n",
      "Epoch 28/30\n",
      "30/30 [==============================] - 324s 11s/step - loss: 0.3858 - accuracy: 0.8433 - val_loss: 1.4652 - val_accuracy: 0.5611\n",
      "Epoch 29/30\n",
      "30/30 [==============================] - 325s 11s/step - loss: 0.3054 - accuracy: 0.8850 - val_loss: 1.4572 - val_accuracy: 0.6389\n",
      "Epoch 30/30\n",
      "30/30 [==============================] - 324s 11s/step - loss: 0.3259 - accuracy: 0.8683 - val_loss: 1.6369 - val_accuracy: 0.5444\n"
     ]
    }
   ],
   "source": [
    "model_tea1=model.fit_generator(train_generator, steps_per_epoch=30,epochs=30, validation_data=valid_generator, validation_steps=9)"
   ]
  },
  {
   "cell_type": "code",
   "execution_count": null,
   "id": "77f38018",
   "metadata": {},
   "outputs": [],
   "source": []
  }
 ],
 "metadata": {
  "kernelspec": {
   "display_name": "Python 3",
   "language": "python",
   "name": "python3"
  },
  "language_info": {
   "codemirror_mode": {
    "name": "ipython",
    "version": 3
   },
   "file_extension": ".py",
   "mimetype": "text/x-python",
   "name": "python",
   "nbconvert_exporter": "python",
   "pygments_lexer": "ipython3",
   "version": "3.8.8"
  }
 },
 "nbformat": 4,
 "nbformat_minor": 5
}
